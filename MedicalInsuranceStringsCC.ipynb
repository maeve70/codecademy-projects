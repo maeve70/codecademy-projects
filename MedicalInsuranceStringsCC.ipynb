{
  "nbformat": 4,
  "nbformat_minor": 0,
  "metadata": {
    "colab": {
      "name": "MedicalInsuranceStringsCC.ipynb",
      "provenance": [],
      "collapsed_sections": [],
      "authorship_tag": "ABX9TyML+xqz8A7h5a7mQA/iCU/3",
      "include_colab_link": true
    },
    "kernelspec": {
      "name": "python3",
      "display_name": "Python 3"
    }
  },
  "cells": [
    {
      "cell_type": "markdown",
      "metadata": {
        "id": "view-in-github",
        "colab_type": "text"
      },
      "source": [
        "<a href=\"https://colab.research.google.com/github/maeve70/codecademy-projects/blob/main/MedicalInsuranceStringsCC.ipynb\" target=\"_parent\"><img src=\"https://colab.research.google.com/assets/colab-badge.svg\" alt=\"Open In Colab\"/></a>"
      ]
    },
    {
      "cell_type": "markdown",
      "metadata": {
        "id": "mQsmr4C0qj6f"
      },
      "source": [
        "replace the \"#\" with a \"$\" and assign a new variable to the records called updated_medical-records."
      ]
    },
    {
      "cell_type": "code",
      "metadata": {
        "id": "mww0oka12tow",
        "colab": {
          "base_uri": "https://localhost:8080/"
        },
        "outputId": "bdb68f62-49cb-4610-a51d-a4259307ccd2"
      },
      "source": [
        "medical_data = \\\n",
        "\"\"\"Marina Allison   ,27   ,   31.1 , \n",
        "#7010.0   ;Markus Valdez   ,   30, \n",
        "22.4,   #4050.0 ;Connie Ballard ,43 \n",
        ",   25.3 , #12060.0 ;Darnell Weber   \n",
        ",   35   , 20.6   , #7500.0;\n",
        "Sylvie Charles   ,22, 22.1 \n",
        ",#3022.0   ;   Vinay Padilla,24,   \n",
        "26.9 ,#4620.0 ;Meredith Santiago, 51   , \n",
        "29.3 ,#16330.0;   Andre Mccarty, \n",
        "19,22.7 , #2900.0 ; \n",
        "Lorena Hodson ,65, 33.1 , #19370.0; \n",
        "Isaac Vu ,34, 24.8,   #7045.0\"\"\"\n",
        "\n",
        "# Add your code here\n",
        "#print(medical_data)\n",
        "\n",
        "updated_medical_data = medical_data.replace('#', '$')\n",
        "print(updated_medical_data)"
      ],
      "execution_count": null,
      "outputs": [
        {
          "output_type": "stream",
          "text": [
            "Marina Allison   ,27   ,   31.1 , \n",
            "$7010.0   ;Markus Valdez   ,   30, \n",
            "22.4,   $4050.0 ;Connie Ballard ,43 \n",
            ",   25.3 , $12060.0 ;Darnell Weber   \n",
            ",   35   , 20.6   , $7500.0;\n",
            "Sylvie Charles   ,22, 22.1 \n",
            ",$3022.0   ;   Vinay Padilla,24,   \n",
            "26.9 ,$4620.0 ;Meredith Santiago, 51   , \n",
            "29.3 ,$16330.0;   Andre Mccarty, \n",
            "19,22.7 , $2900.0 ; \n",
            "Lorena Hodson ,65, 33.1 , $19370.0; \n",
            "Isaac Vu ,34, 24.8,   $7045.0\n"
          ],
          "name": "stdout"
        }
      ]
    },
    {
      "cell_type": "markdown",
      "metadata": {
        "id": "JK9OvsATrqwv"
      },
      "source": [
        "create a variable 'num_records\" and then a for loop to loop through the records. each new record starts with a \"$\" so, use that in the loop. Print out the number of records."
      ]
    },
    {
      "cell_type": "code",
      "metadata": {
        "id": "U3dO7IYq2tmE",
        "colab": {
          "base_uri": "https://localhost:8080/"
        },
        "outputId": "f540b705-b3a7-4f03-eb5f-af334b2acf7a"
      },
      "source": [
        "num_records = 0\n",
        "\n",
        "for record in updated_medical_data:\n",
        "  if record == \"$\":\n",
        "    num_records +=1\n",
        "\n",
        "print(\"There are \" +  str(num_records) + \" medical records in the data.\")    \n"
      ],
      "execution_count": null,
      "outputs": [
        {
          "output_type": "stream",
          "text": [
            "There are 10 medical records in the data.\n"
          ],
          "name": "stdout"
        }
      ]
    },
    {
      "cell_type": "markdown",
      "metadata": {
        "id": "GAqJdzvk2MpN"
      },
      "source": [
        "split the data into records. each is seperated by \";\""
      ]
    },
    {
      "cell_type": "code",
      "metadata": {
        "id": "2pu-ZiNK2ti7",
        "colab": {
          "base_uri": "https://localhost:8080/"
        },
        "outputId": "006f9336-f32b-4a29-d3d7-f90189e02a71"
      },
      "source": [
        "medical_data_split = updated_medical_data.split(\";\")\n",
        "\n",
        "print(medical_data_split)"
      ],
      "execution_count": null,
      "outputs": [
        {
          "output_type": "stream",
          "text": [
            "['Marina Allison   ,27   ,   31.1 , \\n$7010.0   ', 'Markus Valdez   ,   30, \\n22.4,   $4050.0 ', 'Connie Ballard ,43 \\n,   25.3 , $12060.0 ', 'Darnell Weber   \\n,   35   , 20.6   , $7500.0', '\\nSylvie Charles   ,22, 22.1 \\n,$3022.0   ', '   Vinay Padilla,24,   \\n26.9 ,$4620.0 ', 'Meredith Santiago, 51   , \\n29.3 ,$16330.0', '   Andre Mccarty, \\n19,22.7 , $2900.0 ', ' \\nLorena Hodson ,65, 33.1 , $19370.0', ' \\nIsaac Vu ,34, 24.8,   $7045.0']\n"
          ],
          "name": "stdout"
        }
      ]
    },
    {
      "cell_type": "markdown",
      "metadata": {
        "id": "w9a9jDKT2ZDB"
      },
      "source": [
        "create a loop to iterate thru the records and create an individual list for each record. The strings split on \",\""
      ]
    },
    {
      "cell_type": "code",
      "metadata": {
        "id": "KKXDd92n2tfv",
        "colab": {
          "base_uri": "https://localhost:8080/"
        },
        "outputId": "ca75950c-0099-4cd9-bdfa-197986a4e83d"
      },
      "source": [
        "#step 7, 8\n",
        "medical_records = []\n",
        "\n",
        "for record in medical_data_split:\n",
        "  medical_records.append(record.split(',')\n",
        "  )\n",
        "print(medical_records)  \n"
      ],
      "execution_count": null,
      "outputs": [
        {
          "output_type": "stream",
          "text": [
            "[['Marina Allison   ', '27   ', '   31.1 ', ' \\n$7010.0   '], ['Markus Valdez   ', '   30', ' \\n22.4', '   $4050.0 '], ['Connie Ballard ', '43 \\n', '   25.3 ', ' $12060.0 '], ['Darnell Weber   \\n', '   35   ', ' 20.6   ', ' $7500.0'], ['\\nSylvie Charles   ', '22', ' 22.1 \\n', '$3022.0   '], ['   Vinay Padilla', '24', '   \\n26.9 ', '$4620.0 '], ['Meredith Santiago', ' 51   ', ' \\n29.3 ', '$16330.0'], ['   Andre Mccarty', ' \\n19', '22.7 ', ' $2900.0 '], [' \\nLorena Hodson ', '65', ' 33.1 ', ' $19370.0'], [' \\nIsaac Vu ', '34', ' 24.8', '   $7045.0']]\n"
          ],
          "name": "stdout"
        }
      ]
    },
    {
      "cell_type": "markdown",
      "metadata": {
        "id": "DTaX2FA92Zhb"
      },
      "source": [
        "create an empty list called medical records clean.\n",
        "create a loop to iterate through it with an empty list called \"records clean\"."
      ]
    },
    {
      "cell_type": "markdown",
      "metadata": {
        "id": "d4Y4VfqQ2aKd"
      },
      "source": [
        "After the record_clean variable, create a nested for loop that goes through each record:\n",
        "Inside of this loop, append item.strip() to record_clean to remove any whitespace from the string.\n",
        "12: Finally, we need to add each cleaned up record to medical_records_clean.\n",
        "\n",
        "Outside of the nested for loop, append record_clean to medical_records_clean.\n",
        "\n",
        "print medical_records_clean"
      ]
    },
    {
      "cell_type": "code",
      "metadata": {
        "id": "ExZbhaCS2tZi",
        "colab": {
          "base_uri": "https://localhost:8080/"
        },
        "outputId": "4578dd5c-d848-4da5-ba86-ddbffea0eeb5"
      },
      "source": [
        "#9, 10, 11, 12, 13\n",
        "medical_records_clean = []\n",
        "for record in medical_records:\n",
        "  record_clean = []\n",
        "  for item in record:\n",
        "    record_clean.append(item.strip())\n",
        "  medical_records_clean.append(record_clean)\n",
        "\n",
        "print(medical_records_clean)"
      ],
      "execution_count": null,
      "outputs": [
        {
          "output_type": "stream",
          "text": [
            "[['Marina Allison', '27', '31.1', '$7010.0'], ['Markus Valdez', '30', '22.4', '$4050.0'], ['Connie Ballard', '43', '25.3', '$12060.0'], ['Darnell Weber', '35', '20.6', '$7500.0'], ['Sylvie Charles', '22', '22.1', '$3022.0'], ['Vinay Padilla', '24', '26.9', '$4620.0'], ['Meredith Santiago', '51', '29.3', '$16330.0'], ['Andre Mccarty', '19', '22.7', '$2900.0'], ['Lorena Hodson', '65', '33.1', '$19370.0'], ['Isaac Vu', '34', '24.8', '$7045.0']]\n"
          ],
          "name": "stdout"
        }
      ]
    },
    {
      "cell_type": "markdown",
      "metadata": {
        "id": "aX9_HyngMK1V"
      },
      "source": [
        "you can print out each name by writing a for loop:"
      ]
    },
    {
      "cell_type": "code",
      "metadata": {
        "id": "0JrrDYBz2tWk",
        "colab": {
          "base_uri": "https://localhost:8080/"
        },
        "outputId": "4379e11f-3148-4f4c-dbb3-c36ac56895c5"
      },
      "source": [
        "#14\n",
        "for record in medical_records_clean:\n",
        "  print(record[0])"
      ],
      "execution_count": null,
      "outputs": [
        {
          "output_type": "stream",
          "text": [
            "Marina Allison\n",
            "Markus Valdez\n",
            "Connie Ballard\n",
            "Darnell Weber\n",
            "Sylvie Charles\n",
            "Vinay Padilla\n",
            "Meredith Santiago\n",
            "Andre Mccarty\n",
            "Lorena Hodson\n",
            "Isaac Vu\n"
          ],
          "name": "stdout"
        }
      ]
    },
    {
      "cell_type": "markdown",
      "metadata": {
        "id": "KSH9ScGf2bRm"
      },
      "source": [
        ""
      ]
    },
    {
      "cell_type": "markdown",
      "metadata": {
        "id": "otrwj4srMyW1"
      },
      "source": [
        "Step 15 change names to upper case.\n",
        "can also do this in the print()"
      ]
    },
    {
      "cell_type": "code",
      "metadata": {
        "id": "Ecwc8yh02tTb",
        "colab": {
          "base_uri": "https://localhost:8080/"
        },
        "outputId": "8ad1c4b7-f445-42ca-ad31-12954a839310"
      },
      "source": [
        "for record in medical_records_clean:\n",
        "  record[0]= record[0].upper()\n",
        "  print(record[0])"
      ],
      "execution_count": null,
      "outputs": [
        {
          "output_type": "stream",
          "text": [
            "MARINA ALLISON\n",
            "MARKUS VALDEZ\n",
            "CONNIE BALLARD\n",
            "DARNELL WEBER\n",
            "SYLVIE CHARLES\n",
            "VINAY PADILLA\n",
            "MEREDITH SANTIAGO\n",
            "ANDRE MCCARTY\n",
            "LORENA HODSON\n",
            "ISAAC VU\n"
          ],
          "name": "stdout"
        }
      ]
    },
    {
      "cell_type": "markdown",
      "metadata": {
        "id": "tOcvk2082dzx"
      },
      "source": [
        "Step 16- We want to create lists of each bit of info."
      ]
    },
    {
      "cell_type": "code",
      "metadata": {
        "id": "NnCW2N_E2cAk",
        "colab": {
          "base_uri": "https://localhost:8080/"
        },
        "outputId": "bb16fec7-aae7-402b-f80e-ef2658f4d495"
      },
      "source": [
        "#16, 17, 18\n",
        "names =[]\n",
        "ages = []\n",
        "bmis = []\n",
        "insurance_costs = []\n",
        "\n",
        "for record in medical_records_clean:\n",
        "  names.append(record[0])\n",
        "  ages.append(record[1])\n",
        "  bmis.append(record[2])\n",
        "  insurance_costs.append(record[3])\n",
        "\n",
        "print(names)\n",
        "print(ages)\n",
        "print(bmis)\n",
        "print(insurance_costs)\n",
        "\n",
        "\n"
      ],
      "execution_count": null,
      "outputs": [
        {
          "output_type": "stream",
          "text": [
            "['MARINA ALLISON', 'MARKUS VALDEZ', 'CONNIE BALLARD', 'DARNELL WEBER', 'SYLVIE CHARLES', 'VINAY PADILLA', 'MEREDITH SANTIAGO', 'ANDRE MCCARTY', 'LORENA HODSON', 'ISAAC VU']\n",
            "['27', '30', '43', '35', '22', '24', '51', '19', '65', '34']\n",
            "['31.1', '22.4', '25.3', '20.6', '22.1', '26.9', '29.3', '22.7', '33.1', '24.8']\n",
            "['$7010.0', '$4050.0', '$12060.0', '$7500.0', '$3022.0', '$4620.0', '$16330.0', '$2900.0', '$19370.0', '$7045.0']\n"
          ],
          "name": "stdout"
        }
      ]
    },
    {
      "cell_type": "markdown",
      "metadata": {
        "id": "r-0foTfC2eYj"
      },
      "source": [
        "what's the sum on the BMIs?"
      ]
    },
    {
      "cell_type": "code",
      "metadata": {
        "id": "-EQL4R7Z2c70",
        "colab": {
          "base_uri": "https://localhost:8080/"
        },
        "outputId": "17e86c32-2501-415f-c38e-3e97ad56ff0c"
      },
      "source": [
        "total_bmi = 0\n",
        "\n",
        "#again, bmi is a bs number\n",
        "for bmi in bmis:\n",
        "  total_bmi += float(bmi)\n",
        "\n",
        "average_bmi = total_bmi / len(bmis)\n",
        "\n",
        "print(total_bmi)\n",
        "print(\"The avg. bmi is \" + str(average_bmi))\n"
      ],
      "execution_count": null,
      "outputs": [
        {
          "output_type": "stream",
          "text": [
            "258.3\n",
            "The avg. bmi is 25.830000000000002\n"
          ],
          "name": "stdout"
        }
      ]
    },
    {
      "cell_type": "markdown",
      "metadata": {
        "id": "KXIuz4eYP5wJ"
      },
      "source": [
        "Extra: calculate avg ins cost. need to remove the '$' first.\n",
        "HOW TO REMOVE THE DOLLAR SIGN???? DRIVING ME FUCKING NUTS"
      ]
    },
    {
      "cell_type": "code",
      "metadata": {
        "id": "1NQXeVd71v9u",
        "colab": {
          "base_uri": "https://localhost:8080/",
          "height": 35
        },
        "outputId": "9c39d06e-6678-4151-a9c3-ec9020040604"
      },
      "source": [
        "\"pita bread\".replace('pita ','')\n",
        "'bread'"
      ],
      "execution_count": null,
      "outputs": [
        {
          "output_type": "execute_result",
          "data": {
            "application/vnd.google.colaboratory.intrinsic+json": {
              "type": "string"
            },
            "text/plain": [
              "'bread'"
            ]
          },
          "metadata": {
            "tags": []
          },
          "execution_count": 23
        }
      ]
    },
    {
      "cell_type": "code",
      "metadata": {
        "id": "PT-h95_TP4Nc",
        "colab": {
          "base_uri": "https://localhost:8080/",
          "height": 232
        },
        "outputId": "b0868974-92c7-4227-dc0a-a42a5ba728af"
      },
      "source": [
        "#print(insurance_costs) use .lstrip() which is a string method to remove the first??\n",
        "#or .replace()\n",
        "\n",
        "total_insurance_costs = 0\n",
        "for record in insurance_costs:\n",
        "    record.replace('$', ',')\n",
        "\n",
        "total_insurance_costs += int(record)\n",
        "\n",
        "average_insurance_costs = total_insurance_costs/len(insurance_costs)\n",
        "\n",
        "\n",
        "print(average_insurance_costs)\n",
        "\n",
        "\n"
      ],
      "execution_count": null,
      "outputs": [
        {
          "output_type": "error",
          "ename": "ValueError",
          "evalue": "ignored",
          "traceback": [
            "\u001b[0;31m---------------------------------------------------------------------------\u001b[0m",
            "\u001b[0;31mValueError\u001b[0m                                Traceback (most recent call last)",
            "\u001b[0;32m<ipython-input-32-cae8f1a1f208>\u001b[0m in \u001b[0;36m<module>\u001b[0;34m()\u001b[0m\n\u001b[1;32m      6\u001b[0m     \u001b[0mrecord\u001b[0m\u001b[0;34m.\u001b[0m\u001b[0mreplace\u001b[0m\u001b[0;34m(\u001b[0m\u001b[0;34m'$'\u001b[0m\u001b[0;34m,\u001b[0m \u001b[0;34m','\u001b[0m\u001b[0;34m)\u001b[0m\u001b[0;34m\u001b[0m\u001b[0;34m\u001b[0m\u001b[0m\n\u001b[1;32m      7\u001b[0m \u001b[0;34m\u001b[0m\u001b[0m\n\u001b[0;32m----> 8\u001b[0;31m \u001b[0mtotal_insurance_costs\u001b[0m \u001b[0;34m+=\u001b[0m \u001b[0mint\u001b[0m\u001b[0;34m(\u001b[0m\u001b[0mrecord\u001b[0m\u001b[0;34m)\u001b[0m\u001b[0;34m\u001b[0m\u001b[0;34m\u001b[0m\u001b[0m\n\u001b[0m\u001b[1;32m      9\u001b[0m \u001b[0;34m\u001b[0m\u001b[0m\n\u001b[1;32m     10\u001b[0m \u001b[0maverage_insurance_costs\u001b[0m \u001b[0;34m=\u001b[0m \u001b[0mtotal_insurance_costs\u001b[0m\u001b[0;34m/\u001b[0m\u001b[0mlen\u001b[0m\u001b[0;34m(\u001b[0m\u001b[0minsurance_costs\u001b[0m\u001b[0;34m)\u001b[0m\u001b[0;34m\u001b[0m\u001b[0;34m\u001b[0m\u001b[0m\n",
            "\u001b[0;31mValueError\u001b[0m: invalid literal for int() with base 10: '$7045.0'"
          ]
        }
      ]
    },
    {
      "cell_type": "code",
      "metadata": {
        "id": "I57SunhHP4RL"
      },
      "source": [
        "#total_insurance_costs = 0\n",
        "\n",
        "#for cost in insurance_costs:\n",
        " # total_insurance_costs += float(cost)\n",
        "#average_ins_cost = total_insurance_costs / len(cost)\n",
        "\n",
        "#print(total_insurance_costs)\n",
        "\n",
        "\n"
      ],
      "execution_count": null,
      "outputs": []
    },
    {
      "cell_type": "code",
      "metadata": {
        "id": "-l9-B4cjP4Dr"
      },
      "source": [
        ""
      ],
      "execution_count": null,
      "outputs": []
    }
  ]
}