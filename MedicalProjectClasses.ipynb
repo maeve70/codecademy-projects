{
  "nbformat": 4,
  "nbformat_minor": 0,
  "metadata": {
    "colab": {
      "name": "MedicalProjectClasses.ipynb",
      "provenance": [],
      "collapsed_sections": [],
      "authorship_tag": "ABX9TyOgAgzCCJ4d7xTWPcT8HRcn",
      "include_colab_link": true
    },
    "kernelspec": {
      "name": "python3",
      "display_name": "Python 3"
    }
  },
  "cells": [
    {
      "cell_type": "markdown",
      "metadata": {
        "id": "view-in-github",
        "colab_type": "text"
      },
      "source": [
        "<a href=\"https://colab.research.google.com/github/maeve70/codecademy-projects/blob/main/MedicalProjectClasses.ipynb\" target=\"_parent\"><img src=\"https://colab.research.google.com/assets/colab-badge.svg\" alt=\"Open In Colab\"/></a>"
      ]
    },
    {
      "cell_type": "markdown",
      "metadata": {
        "id": "eZBG_6xcglg2"
      },
      "source": [
        "Steps 1 & 2 set up the class."
      ]
    },
    {
      "cell_type": "code",
      "metadata": {
        "colab": {
          "base_uri": "https://localhost:8080/"
        },
        "id": "yFUr1cuBgf8l",
        "outputId": "1f12cfae-4a93-4c52-ad5c-11a8dac8f8e2"
      },
      "source": [
        "class Patient:\n",
        "  def __init__(self, name, age, sex, bmi, num_of_children, smoker):\n",
        "    self.name = name\n",
        "    self.age = age\n",
        "    # add more parameters here\n",
        "    self.sex = sex\n",
        "    self.bmi = bmi\n",
        "    self.num_of_children = num_of_children\n",
        "    self.smoker = smoker\n",
        "\n",
        "patient1 = Patient(\"John Doe\", 25, 1, 22.2, 0, 0)\n",
        "\n",
        "print(patient1.name)\n",
        "print(patient1.age)\n",
        "print(patient1.sex)\n",
        "print(patient1.bmi)\n",
        "print(patient1.num_of_children)\n",
        "print(patient1.smoker)"
      ],
      "execution_count": 33,
      "outputs": [
        {
          "output_type": "stream",
          "text": [
            "John Doe\n",
            "25\n",
            "1\n",
            "22.2\n",
            "0\n",
            "0\n"
          ],
          "name": "stdout"
        }
      ]
    },
    {
      "cell_type": "markdown",
      "metadata": {
        "id": "Ok8EismWgl-_"
      },
      "source": [
        "Steps 3-13:\n",
        "- Our first method will be estimated_insurance_cost(), which takes our instance’s parameters (representing our patient’s information) and returns their expected yearly medical fees.\n",
        "\n",
        "Below the __init__ constructor, define our estimated_insurance_cost() constructor which only takes self as an argument. Inside of this method, add the following formula:\n",
        "\n",
        "estimated\\_cost = 250*age - 128*sex + 370*bmi + 425*num\\_of\\_children + 24000*smoker - 12500estimated_cost=250∗age−128∗sex+370∗bmi+425∗num_of_children+24000∗smoker−12500\n",
        "- create an update_age() method. It should take in two arguments: self and new_age. In this method reassign self.age to new_age.\n",
        "- define a new one called update_num_children(). This method should have two arguments, self and new_num_children. Inside the method, self.num_of_children should be set equal to new_num_children.\n",
        "- Define a method called patient_profile() that builds a dictionary called patient_information to hold all of our patient’s information.\n",
        "\n"
      ]
    },
    {
      "cell_type": "code",
      "metadata": {
        "id": "uNEEa-Hzgkmi",
        "colab": {
          "base_uri": "https://localhost:8080/"
        },
        "outputId": "e67e0d36-28b4-4231-fe3b-07a35177b5ff"
      },
      "source": [
        "#updated:\n",
        "\n",
        "class Patient:\n",
        "  def __init__(self, name, age, sex, bmi, num_of_children, smoker):\n",
        "    self.name = name\n",
        "    self.age = age\n",
        "    # add more parameters here\n",
        "    self.sex = sex\n",
        "    self.bmi = bmi\n",
        "    self.num_of_children = num_of_children\n",
        "    self.smoker = smoker\n",
        "\n",
        "  def estimated_insurance_cost(self):\n",
        "    estimated_cost = 250*self.age - 128*self.sex + 370*self.bmi + 425*self.num_of_children + 24000*self.smoker - 12500\n",
        "    return(\"{}'s estimated insurance costs is {} dollars.\".format(self.name, estimated_cost))\n",
        "\n",
        "  def update_age(self, new_age):\n",
        "    self.age = new_age\n",
        "    print(self.name + \" is now \" + str(self.age) + \" years old.\")\n",
        "\n",
        "  def update_num_children(self,new_num_children):\n",
        "    self.num_of_children =new_num_children\n",
        "    if self.num_of_children == 1:\n",
        "      print(self.name + \" has \" + str(self.num_of_children) + \" child. \")\n",
        "    else:  \n",
        "      print(self.name + \" has \" + str(self.num_of_children) + \" children. \")\n",
        "\n",
        "   \n",
        "  def patient_profile(self):\n",
        "       patient_information = {}\n",
        "\n",
        "       patient_information[\"Name\"] = self.name\n",
        "  \n",
        "       patient_information[\"Age\"] = self.age\n",
        "       patient_information[\"Sex\"] = self.sex\n",
        "       patient_information[\"BMI\"] = self.bmi\n",
        "       patient_information[\"Number of Children\"] = self.num_of_children\n",
        "       patient_information[\"Smoker\"] = self.smoker\n",
        "       return patient_information\n",
        "\n",
        "patient1 = Patient(\"John Doe\", 25, 1, 22.2, 0, 0)\n",
        "patient2 = Patient(\"LJ\", 42, 0, 22.5, 0, 0)\n",
        "print(patient1.estimated_insurance_cost())\n",
        "\n",
        "patient1.update_age(26)\n",
        "\n",
        "print(patient2.estimated_insurance_cost())\n",
        "#how f*cked up is that cost??\n",
        "#BMI is a bs number & should not be used to define anyone's health. Your BMI is NOT an indication of overall health.\n",
        "\n",
        "print(patient1.estimated_insurance_cost())\n",
        "patient1.update_num_children(1)\n",
        "print(patient1.estimated_insurance_cost())\n",
        "print(patient1.patient_profile())\n",
        "\n",
        "print(patient2.patient_profile())"
      ],
      "execution_count": 37,
      "outputs": [
        {
          "output_type": "stream",
          "text": [
            "John Doe's estimated insurance costs is 1836.0 dollars.\n",
            "John Doe is now 26 years old.\n",
            "LJ's estimated insurance costs is 6325.0 dollars.\n",
            "John Doe's estimated insurance costs is 2086.0 dollars.\n",
            "John Doe has 1 child. \n",
            "John Doe's estimated insurance costs is 2511.0 dollars.\n",
            "{'Name': 'John Doe', 'Age': 26, 'Sex': 1, 'BMI': 22.2, 'Number of Children': 1, 'Smoker': 0}\n",
            "{'Name': 'LJ', 'Age': 42, 'Sex': 0, 'BMI': 22.5, 'Number of Children': 0, 'Smoker': 0}\n"
          ],
          "name": "stdout"
        }
      ]
    },
    {
      "cell_type": "code",
      "metadata": {
        "id": "pbqrKxDdgkgc"
      },
      "source": [
        ""
      ],
      "execution_count": null,
      "outputs": []
    },
    {
      "cell_type": "code",
      "metadata": {
        "id": "DyGv40zYgkdQ"
      },
      "source": [
        ""
      ],
      "execution_count": null,
      "outputs": []
    },
    {
      "cell_type": "code",
      "metadata": {
        "id": "eXFolHotgkZz"
      },
      "source": [
        ""
      ],
      "execution_count": null,
      "outputs": []
    },
    {
      "cell_type": "code",
      "metadata": {
        "id": "Atgf087SgkV4"
      },
      "source": [
        ""
      ],
      "execution_count": null,
      "outputs": []
    }
  ]
}