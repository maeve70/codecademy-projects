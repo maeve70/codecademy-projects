{
  "nbformat": 4,
  "nbformat_minor": 0,
  "metadata": {
    "colab": {
      "name": "CCMedicalInfoDictProject.ipynb",
      "provenance": [],
      "collapsed_sections": [],
      "authorship_tag": "ABX9TyNyMVWN2FTHZb+vcJlgGCdA",
      "include_colab_link": true
    },
    "kernelspec": {
      "name": "python3",
      "display_name": "Python 3"
    }
  },
  "cells": [
    {
      "cell_type": "markdown",
      "metadata": {
        "id": "view-in-github",
        "colab_type": "text"
      },
      "source": [
        "<a href=\"https://colab.research.google.com/github/maeve70/codecademy-projects/blob/main/CCMedicalInfoDictProject.ipynb\" target=\"_parent\"><img src=\"https://colab.research.google.com/assets/colab-badge.svg\" alt=\"Open In Colab\"/></a>"
      ]
    },
    {
      "cell_type": "markdown",
      "metadata": {
        "id": "g7WbLZY8r462"
      },
      "source": [
        "1.) Let's create a dictionary. \n",
        "\n",
        "2.) Then, let's update it."
      ]
    },
    {
      "cell_type": "code",
      "metadata": {
        "id": "NOHP_PGsrnmB",
        "colab": {
          "base_uri": "https://localhost:8080/"
        },
        "outputId": "1a1d2667-b887-4e78-f8b1-7e5fe9b091fb"
      },
      "source": [
        "medical_costs = {\"Marina\": 6607.0, \"Vinay\": 3225.0}\n",
        "\n",
        "medical_costs.update({\"Connie\": 8886.0, \"Isaac\": 16444.0, \"Valentina\": 6420.0})\n",
        "print(medical_costs)"
      ],
      "execution_count": null,
      "outputs": [
        {
          "output_type": "stream",
          "text": [
            "{'Marina': 6607.0, 'Vinay': 3225.0, 'Connie': 8886.0, 'Isaac': 16444.0, 'Valentina': 6420.0}\n"
          ],
          "name": "stdout"
        }
      ]
    },
    {
      "cell_type": "markdown",
      "metadata": {
        "id": "tRhNPwTtr5ez"
      },
      "source": [
        ""
      ]
    },
    {
      "cell_type": "markdown",
      "metadata": {
        "id": "e0gWDFHVr6Cc"
      },
      "source": [
        ""
      ]
    },
    {
      "cell_type": "markdown",
      "metadata": {
        "id": "PBTZ402dr6jD"
      },
      "source": [
        "Update Vinay's cost b/c it's wrong. Print it out."
      ]
    },
    {
      "cell_type": "code",
      "metadata": {
        "id": "6T84v9ffw25y",
        "colab": {
          "base_uri": "https://localhost:8080/"
        },
        "outputId": "5eae30a5-1ed8-4d07-c375-eed36bf1925f"
      },
      "source": [
        "medical_costs[\"Vinay\"] = 3325.0\n",
        "\n",
        "print(medical_costs)"
      ],
      "execution_count": null,
      "outputs": [
        {
          "output_type": "stream",
          "text": [
            "{'Marina': 6607.0, 'Vinay': 3325.0, 'Connie': 8886.0, 'Isaac': 16444.0, 'Valentina': 6420.0}\n"
          ],
          "name": "stdout"
        }
      ]
    },
    {
      "cell_type": "code",
      "metadata": {
        "id": "AoodLCDirxtc",
        "colab": {
          "base_uri": "https://localhost:8080/"
        },
        "outputId": "ab3df1d1-6c2d-45c3-f865-ff382a28e390"
      },
      "source": [
        "#5, 6\n",
        "#What's the total costs? Create a variable called total cost & set it to 0.\n",
        "#Loop through the costs using .values() method to get a total cost \n",
        "\n",
        "total_cost = 0\n",
        "\n",
        "for cost in medical_costs.values():\n",
        "  total_cost += cost\n",
        "  \n",
        "\n",
        "print(total_cost)"
      ],
      "execution_count": null,
      "outputs": [
        {
          "output_type": "stream",
          "text": [
            "41682.0\n"
          ],
          "name": "stdout"
        }
      ]
    },
    {
      "cell_type": "code",
      "metadata": {
        "id": "_1pmWnEerxrB",
        "colab": {
          "base_uri": "https://localhost:8080/"
        },
        "outputId": "35713642-3b8d-4aab-e3ce-c4f30e2a715d"
      },
      "source": [
        "#Let's figure out the avg cost\n",
        "\n",
        "average_cost = total_cost / len(medical_costs)\n",
        "\n",
        "print(\"Average Insurance Cost: \" + str(average_cost))"
      ],
      "execution_count": null,
      "outputs": [
        {
          "output_type": "stream",
          "text": [
            "Average Insurance Cost: 8336.4\n"
          ],
          "name": "stdout"
        }
      ]
    },
    {
      "cell_type": "code",
      "metadata": {
        "id": "P92aQZDWrxnV",
        "colab": {
          "base_uri": "https://localhost:8080/"
        },
        "outputId": "25e0ceae-ba66-4f62-94e2-54e7ba5ff363"
      },
      "source": [
        "#8create two lists of names and ages\n",
        "#9 zip the two lists into one zipped list\n",
        "\n",
        "names = [\"Marina\", \"Vinay\", \"Connie\", \"Isaac\", \" Valentina\"]\n",
        "ages = [27, 24, 43, 35, 52]\n",
        "\n",
        "zipped_ages = list(zip(names, ages))\n",
        "print(zipped_ages)"
      ],
      "execution_count": null,
      "outputs": [
        {
          "output_type": "stream",
          "text": [
            "[('Marina', 27), ('Vinay', 24), ('Connie', 43), ('Isaac', 35), (' Valentina', 52)]\n"
          ],
          "name": "stdout"
        }
      ]
    },
    {
      "cell_type": "markdown",
      "metadata": {
        "id": "XI5UKJ75m00W"
      },
      "source": [
        "Step 10 Create a dictionary called names_to_ages by using a list comprehension that iterates through zipped_ages and turns each pair into a key : value item.\n",
        "\n",
        "Print names_to_ages to see the result."
      ]
    },
    {
      "cell_type": "code",
      "metadata": {
        "id": "BCOh7fBUrxkM",
        "colab": {
          "base_uri": "https://localhost:8080/"
        },
        "outputId": "91b46caf-76f1-4f9d-87bf-478af9cbaf93"
      },
      "source": [
        "names_to_ages = {names:ages for [names, ages] in zipped_ages}\n",
        "\n",
        "print(names_to_ages)\n"
      ],
      "execution_count": null,
      "outputs": [
        {
          "output_type": "stream",
          "text": [
            "{'Marina': 27, 'Vinay': 24, 'Connie': 43, 'Isaac': 35, ' Valentina': 52}\n"
          ],
          "name": "stdout"
        }
      ]
    },
    {
      "cell_type": "code",
      "metadata": {
        "id": "wPQZ0hPerxg7",
        "colab": {
          "base_uri": "https://localhost:8080/"
        },
        "outputId": "9e2c06d8-e8a2-4f3c-9eb7-70bf2930e08b"
      },
      "source": [
        "#Step 11- create new variable and use the .get method to get marina's age, then pring it out.\n",
        "\n",
        "marina_age = names_to_ages.get(\"Marina\")\n",
        "\n",
        "print(\"Marina's age is \" + str(marina_age))\n"
      ],
      "execution_count": null,
      "outputs": [
        {
          "output_type": "stream",
          "text": [
            "Marina's age is 27\n"
          ],
          "name": "stdout"
        }
      ]
    },
    {
      "cell_type": "markdown",
      "metadata": {
        "id": "sw93P1AVorcB"
      },
      "source": [
        "12: create an empty dictionary called medical records\n",
        "13: add Marina as a key and a dictionary of all her info"
      ]
    },
    {
      "cell_type": "code",
      "metadata": {
        "id": "XKSCF3Q4rxdp",
        "colab": {
          "base_uri": "https://localhost:8080/"
        },
        "outputId": "e136719b-9402-454d-e0b3-8683867cabb6"
      },
      "source": [
        "medical_records = {}\n",
        "\n",
        "medical_records[\"Marina\"] = {\"Age\": 27, \"Sex\": \"Female\", \"BMI\": 31.1, \n",
        "                             \"Children\": 2, \"Smoker\": \"Non-smoker\", \n",
        "                             \"Insurance_cost\": 6607.0}\n",
        "print(medical_records)"
      ],
      "execution_count": null,
      "outputs": [
        {
          "output_type": "stream",
          "text": [
            "{'Marina': {'Age': 27, 'Sex': 'Female', 'BMI': 31.1, 'Children': 2, 'Smoker': 'Non-smoker', 'Insurance_cost': 6607.0}}\n"
          ],
          "name": "stdout"
        }
      ]
    },
    {
      "cell_type": "markdown",
      "metadata": {
        "id": "HWbt7UYKpI-3"
      },
      "source": [
        "14: do the rest of the ppl & print out"
      ]
    },
    {
      "cell_type": "code",
      "metadata": {
        "id": "LICH4f7_rxae",
        "colab": {
          "base_uri": "https://localhost:8080/"
        },
        "outputId": "df820ee2-3a51-43ba-bcb5-abb188aa65bf"
      },
      "source": [
        "medical_records[\"Vinay\"] = {\"Age\": 24, \"Sex\": \"Male\", \"BMI\": 26.9, \"Children\": 0, \"Smoker\": \"Non-smoker\", \"Insurance_cost\": 3225.0}\n",
        "medical_records[\"Connie\"] = {\"Age\": 43, \"Sex\": \"Female\", \"BMI\": 25.3, \"Children\": 3, \"Smoker\": \"Non-smoker\", \"Insurance_cost\": 8886.0}\n",
        "medical_records[\"Isaac\"] = {\"Age\": 35, \"Sex\": \"Male\", \"BMI\": 20.6, \"Children\": 4, \"Smoker\": \"Smoker\", \"Insurance_cost\": 16444.0}\n",
        "medical_records[\"Valentina\"] = {\"Age\": 52, \"Sex\": \"Female\", \"BMI\": 18.7, \"Children\": 1, \"Smoker\": \"Non-smoker\", \"Insurance_cost\": 6420.0}\n",
        "\n",
        "print(medical_records)"
      ],
      "execution_count": null,
      "outputs": [
        {
          "output_type": "stream",
          "text": [
            "{'Marina': {'Age': 27, 'Sex': 'Female', 'BMI': 31.1, 'Children': 2, 'Smoker': 'Non-smoker', 'Insurance_cost': 6607.0}, 'Vinay': {'Age': 24, 'Sex': 'Male', 'BMI': 26.9, 'Children': 0, 'Smoker': 'Non-smoker', 'Insurance_cost': 3225.0}, 'Connie': {'Age': 43, 'Sex': 'Female', 'BMI': 25.3, 'Children': 3, 'Smoker': 'Non-smoker', 'Insurance_cost': 8886.0}, 'Isaac': {'Age': 35, 'Sex': 'Male', 'BMI': 20.6, 'Children': 4, 'Smoker': 'Smoker', 'Insurance_cost': 16444.0}, 'Valentina': {'Age': 52, 'Sex': 'Female', 'BMI': 18.7, 'Children': 1, 'Smoker': 'Non-smoker', 'Insurance_cost': 6420.0}}\n"
          ],
          "name": "stdout"
        }
      ]
    },
    {
      "cell_type": "markdown",
      "metadata": {
        "id": "Rm8FONUcpfsI"
      },
      "source": [
        "16: The medical_records dictionary acts like a database of medical records. Let’s access a specific piece of data in medical_records.\n",
        "\n",
        "Print out Connie’s insurance cost with the following message:\n",
        "\n",
        "Connie's insurance cost is X dollars.\n"
      ]
    },
    {
      "cell_type": "markdown",
      "metadata": {
        "id": "17BRba7iq72z"
      },
      "source": [
        "We can access any records in the dictionary like so:\n",
        "medical_records[\"Connie\"][\"Insurance_cost\"]\n",
        "medical_records[\"Vinay\"][\"BMI]\n"
      ]
    },
    {
      "cell_type": "code",
      "metadata": {
        "id": "c0S5Qpt-lItZ",
        "colab": {
          "base_uri": "https://localhost:8080/"
        },
        "outputId": "7c0910ab-c124-438c-ad7d-c648c58a2637"
      },
      "source": [
        "#Print out connie's insurance cost.\n",
        "\n",
        "print(\"Connie's insurance cost is \" + str(medical_records[\"Connie\"][\"Insurance_cost\"]) + \" dollars. \")\n",
        "\n",
        "print(medical_records[\"Vinay\"][\"BMI\"])"
      ],
      "execution_count": null,
      "outputs": [
        {
          "output_type": "stream",
          "text": [
            "Connie's insurance cost is 8886.0 dollars. \n",
            "26.9\n"
          ],
          "name": "stdout"
        }
      ]
    },
    {
      "cell_type": "code",
      "metadata": {
        "id": "nEM8DQL6lIzm",
        "colab": {
          "base_uri": "https://localhost:8080/"
        },
        "outputId": "6ec9fa42-fd9c-49d6-d402-3d99f0200dd2"
      },
      "source": [
        "#17 remove Vinay\n",
        "medical_records.pop(\"Vinay\")\n",
        "print(medical_records)"
      ],
      "execution_count": null,
      "outputs": [
        {
          "output_type": "stream",
          "text": [
            "{'Marina': {'Age': 27, 'Sex': 'Female', 'BMI': 31.1, 'Children': 2, 'Smoker': 'Non-smoker', 'Insurance_cost': 6607.0}, 'Connie': {'Age': 43, 'Sex': 'Female', 'BMI': 25.3, 'Children': 3, 'Smoker': 'Non-smoker', 'Insurance_cost': 8886.0}, 'Isaac': {'Age': 35, 'Sex': 'Male', 'BMI': 20.6, 'Children': 4, 'Smoker': 'Smoker', 'Insurance_cost': 16444.0}, 'Valentina': {'Age': 52, 'Sex': 'Female', 'BMI': 18.7, 'Children': 1, 'Smoker': 'Non-smoker', 'Insurance_cost': 6420.0}}\n"
          ],
          "name": "stdout"
        }
      ]
    },
    {
      "cell_type": "code",
      "metadata": {
        "id": "qHdR8BqulI6b",
        "colab": {
          "base_uri": "https://localhost:8080/"
        },
        "outputId": "aec80f03-2cb3-49c1-fce7-f6f66e71a297"
      },
      "source": [
        "#18 write a for loop that goes through each record.\n",
        "#Remember, you can use the method .items() which gets both key, value.\n",
        "\n",
        "for name, record in medical_records.items():\n",
        "  print(name + \" is a \" + str(record[\"Age\"]) + \" y.o \" + record[\"Sex\"] + \", \" \n",
        "        + record[\"Smoker\"] + \" with a BMI of \" + str(record[\"BMI\"]) + \n",
        "        \" and an insurance cost of \" + str(record[\"Insurance_cost\"]) + \" dollars.\")"
      ],
      "execution_count": null,
      "outputs": [
        {
          "output_type": "stream",
          "text": [
            "Marina is a 27 y.o Female, Non-smoker with a BMI of 31.1 and an insurance cost of 6607.0 dollars.\n",
            "Connie is a 43 y.o Female, Non-smoker with a BMI of 25.3 and an insurance cost of 8886.0 dollars.\n",
            "Isaac is a 35 y.o Male, Smoker with a BMI of 20.6 and an insurance cost of 16444.0 dollars.\n",
            "Valentina is a 52 y.o Female, Non-smoker with a BMI of 18.7 and an insurance cost of 6420.0 dollars.\n"
          ],
          "name": "stdout"
        }
      ]
    },
    {
      "cell_type": "code",
      "metadata": {
        "id": "FHdtOh7KlI99"
      },
      "source": [
        ""
      ],
      "execution_count": null,
      "outputs": []
    },
    {
      "cell_type": "code",
      "metadata": {
        "id": "2nTNh60elI3F"
      },
      "source": [
        ""
      ],
      "execution_count": null,
      "outputs": []
    },
    {
      "cell_type": "code",
      "metadata": {
        "id": "pa95KWiLlIw2"
      },
      "source": [
        ""
      ],
      "execution_count": null,
      "outputs": []
    },
    {
      "cell_type": "code",
      "metadata": {
        "id": "YY8By50UlIqj"
      },
      "source": [
        ""
      ],
      "execution_count": null,
      "outputs": []
    }
  ]
}