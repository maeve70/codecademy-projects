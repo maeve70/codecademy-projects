{
  "nbformat": 4,
  "nbformat_minor": 0,
  "metadata": {
    "colab": {
      "name": "HurricaneProjectCC.ipynb",
      "provenance": [],
      "collapsed_sections": [],
      "authorship_tag": "ABX9TyN/QisNBAaswgnBC26stk41",
      "include_colab_link": true
    },
    "kernelspec": {
      "name": "python3",
      "display_name": "Python 3"
    },
    "language_info": {
      "name": "python"
    }
  },
  "cells": [
    {
      "cell_type": "markdown",
      "metadata": {
        "id": "view-in-github",
        "colab_type": "text"
      },
      "source": [
        "<a href=\"https://colab.research.google.com/github/maeve70/codecademy-projects/blob/main/HurricaneProjectCC.ipynb\" target=\"_parent\"><img src=\"https://colab.research.google.com/assets/colab-badge.svg\" alt=\"Open In Colab\"/></a>"
      ]
    },
    {
      "cell_type": "code",
      "metadata": {
        "id": "p3YIxiCjT3E7"
      },
      "source": [
        "# names of hurricanes\n",
        "names = ['Cuba I', 'San Felipe II Okeechobee', 'Bahamas', 'Cuba II', 'CubaBrownsville', 'Tampico', 'Labor Day', 'New England', 'Carol', 'Janet', 'Carla', 'Hattie', 'Beulah', 'Camille', 'Edith', 'Anita', 'David', 'Allen', 'Gilbert', 'Hugo', 'Andrew', 'Mitch', 'Isabel', 'Ivan', 'Emily', 'Katrina', 'Rita', 'Wilma', 'Dean', 'Felix', 'Matthew', 'Irma', 'Maria', 'Michael']\n",
        "\n",
        "# months of hurricanes\n",
        "months = ['October', 'September', 'September', 'November', 'August', 'September', 'September', 'September', 'September', 'September', 'September', 'October', 'September', 'August', 'September', 'September', 'August', 'August', 'September', 'September', 'August', 'October', 'September', 'September', 'July', 'August', 'September', 'October', 'August', 'September', 'October', 'September', 'September', 'October']\n",
        "\n",
        "# years of hurricanes\n",
        "years = [1924, 1928, 1932, 1932, 1933, 1933, 1935, 1938, 1953, 1955, 1961, 1961, 1967, 1969, 1971, 1977, 1979, 1980, 1988, 1989, 1992, 1998, 2003, 2004, 2005, 2005, 2005, 2005, 2007, 2007, 2016, 2017, 2017, 2018]\n",
        "\n",
        "# maximum sustained winds (mph) of hurricanes\n",
        "max_sustained_winds = [165, 160, 160, 175, 160, 160, 185, 160, 160, 175, 175, 160, 160, 175, 160, 175, 175, 190, 185, 160, 175, 180, 165, 165, 160, 175, 180, 185, 175, 175, 165, 180, 175, 160]\n",
        "\n",
        "# areas affected by each hurricane\n",
        "areas_affected = [['Central America', 'Mexico', 'Cuba', 'Florida', 'The Bahamas'], ['Lesser Antilles', 'The Bahamas', 'United States East Coast', 'Atlantic Canada'], ['The Bahamas', 'Northeastern United States'], ['Lesser Antilles', 'Jamaica', 'Cayman Islands', 'Cuba', 'The Bahamas', 'Bermuda'], ['The Bahamas', 'Cuba', 'Florida', 'Texas', 'Tamaulipas'], ['Jamaica', 'Yucatn Peninsula'], ['The Bahamas', 'Florida', 'Georgia', 'The Carolinas', 'Virginia'], ['Southeastern United States', 'Northeastern United States', 'Southwestern Quebec'], ['Bermuda', 'New England', 'Atlantic Canada'], ['Lesser Antilles', 'Central America'], ['Texas', 'Louisiana', 'Midwestern United States'], ['Central America'], ['The Caribbean', 'Mexico', 'Texas'], ['Cuba', 'United States Gulf Coast'], ['The Caribbean', 'Central America', 'Mexico', 'United States Gulf Coast'], ['Mexico'], ['The Caribbean', 'United States East coast'], ['The Caribbean', 'Yucatn Peninsula', 'Mexico', 'South Texas'], ['Jamaica', 'Venezuela', 'Central America', 'Hispaniola', 'Mexico'], ['The Caribbean', 'United States East Coast'], ['The Bahamas', 'Florida', 'United States Gulf Coast'], ['Central America', 'Yucatn Peninsula', 'South Florida'], ['Greater Antilles', 'Bahamas', 'Eastern United States', 'Ontario'], ['The Caribbean', 'Venezuela', 'United States Gulf Coast'], ['Windward Islands', 'Jamaica', 'Mexico', 'Texas'], ['Bahamas', 'United States Gulf Coast'], ['Cuba', 'United States Gulf Coast'], ['Greater Antilles', 'Central America', 'Florida'], ['The Caribbean', 'Central America'], ['Nicaragua', 'Honduras'], ['Antilles', 'Venezuela', 'Colombia', 'United States East Coast', 'Atlantic Canada'], ['Cape Verde', 'The Caribbean', 'British Virgin Islands', 'U.S. Virgin Islands', 'Cuba', 'Florida'], ['Lesser Antilles', 'Virgin Islands', 'Puerto Rico', 'Dominican Republic', 'Turks and Caicos Islands'], ['Central America', 'United States Gulf Coast (especially Florida Panhandle)']]\n",
        "\n",
        "# damages (USD($)) of hurricanes\n",
        "damages = ['Damages not recorded', '100M', 'Damages not recorded', '40M', '27.9M', '5M', 'Damages not recorded', '306M', '2M', '65.8M', '326M', '60.3M', '208M', '1.42B', '25.4M', 'Damages not recorded', '1.54B', '1.24B', '7.1B', '10B', '26.5B', '6.2B', '5.37B', '23.3B', '1.01B', '125B', '12B', '29.4B', '1.76B', '720M', '15.1B', '64.8B', '91.6B', '25.1B']\n",
        "\n",
        "# deaths for each hurricane\n",
        "deaths = [90,4000,16,3103,179,184,408,682,5,1023,43,319,688,259,37,11,2068,269,318,107,65,19325,51,124,17,1836,125,87,45,133,603,138,3057,74]\n"
      ],
      "execution_count": null,
      "outputs": []
    },
    {
      "cell_type": "code",
      "metadata": {
        "colab": {
          "base_uri": "https://localhost:8080/"
        },
        "id": "2osAPZbVUCiw",
        "outputId": "1c8498fc-23b1-4757-e7ec-085700f47645"
      },
      "source": [
        "#Convert the damages column, millions and billions\n",
        "def convert_damages_data(damages):\n",
        "  \"\"\"Convert damages data from string to float and return converted data as a list.\"\"\"\n",
        "  conversion = {\"M\": 1000000,\n",
        "               \"B\": 1000000000}\n",
        "\n",
        "  updated_damages = list()\n",
        "  for damage in damages:\n",
        "    if damage == \"Damages not recorded\":\n",
        "      updated_damages.append(damage)\n",
        "    if damage.find('M') != -1:\n",
        "      updated_damages.append(float(damage[0:damage.find('M')])*conversion[\"M\"])\n",
        "    if damage.find('B') != -1:\n",
        "      updated_damages.append(float(damage[0:damage.find('B')])*conversion[\"B\"])\n",
        "  return updated_damages\n",
        "\n",
        "# update damages data\n",
        "updated_damages = convert_damages_data(damages)\n",
        "\n",
        "print(updated_damages)"
      ],
      "execution_count": null,
      "outputs": [
        {
          "output_type": "stream",
          "text": [
            "['Damages not recorded', 100000000.0, 'Damages not recorded', 40000000.0, 27900000.0, 5000000.0, 'Damages not recorded', 306000000.0, 2000000.0, 65800000.0, 326000000.0, 60300000.0, 208000000.0, 1420000000.0, 25400000.0, 'Damages not recorded', 1540000000.0, 1240000000.0, 7100000000.0, 10000000000.0, 26500000000.0, 6200000000.0, 5370000000.0, 23300000000.0, 1010000000.0, 125000000000.0, 12000000000.0, 29400000000.0, 1760000000.0, 720000000.0, 15100000000.0, 64800000000.0, 91600000000.0, 25100000000.0]\n"
          ],
          "name": "stdout"
        }
      ]
    },
    {
      "cell_type": "code",
      "metadata": {
        "colab": {
          "base_uri": "https://localhost:8080/"
        },
        "id": "6HQmWHucUVNK",
        "outputId": "317ca9a4-717e-45fb-f19a-145f559bfeb6"
      },
      "source": [
        "#create a function to create a dictionary with all the 'cane data:\n",
        "\n",
        "def create_dictionary(names, months, years, max_sustained_winds, areas_affected, updated_damages, deaths):\n",
        "  \"\"\"Create dictionary of hurricanes with hurricane name as the key and a dictionary of hurricane data as the value.\"\"\"\n",
        "  hurricanes = dict()\n",
        "  num_hurricanes = len(names)\n",
        "  for i in range(num_hurricanes):\n",
        "    hurricanes[names[i]] = {\"Name\": names[i],\n",
        "                          \"Month\": months[i],\n",
        "                          \"Year\": years[i],\n",
        "                          \"Max Sustained Wind\": max_sustained_winds[i],\n",
        "                          \"Areas Affected\": areas_affected[i],\n",
        "                          \"Damage\": updated_damages[i],\n",
        "                          \"Deaths\": deaths[i]}\n",
        "  return hurricanes\n",
        "\n",
        "# create hurricanes dictionary\n",
        "hurricanes = create_dictionary(names, months, years, max_sustained_winds, areas_affected, updated_damages, deaths)\n",
        "print(hurricanes)"
      ],
      "execution_count": null,
      "outputs": [
        {
          "output_type": "stream",
          "text": [
            "{'Cuba I': {'Name': 'Cuba I', 'Month': 'October', 'Year': 1924, 'Max Sustained Wind': 165, 'Areas Affected': ['Central America', 'Mexico', 'Cuba', 'Florida', 'The Bahamas'], 'Damage': 'Damages not recorded', 'Deaths': 90}, 'San Felipe II Okeechobee': {'Name': 'San Felipe II Okeechobee', 'Month': 'September', 'Year': 1928, 'Max Sustained Wind': 160, 'Areas Affected': ['Lesser Antilles', 'The Bahamas', 'United States East Coast', 'Atlantic Canada'], 'Damage': 100000000.0, 'Deaths': 4000}, 'Bahamas': {'Name': 'Bahamas', 'Month': 'September', 'Year': 1932, 'Max Sustained Wind': 160, 'Areas Affected': ['The Bahamas', 'Northeastern United States'], 'Damage': 'Damages not recorded', 'Deaths': 16}, 'Cuba II': {'Name': 'Cuba II', 'Month': 'November', 'Year': 1932, 'Max Sustained Wind': 175, 'Areas Affected': ['Lesser Antilles', 'Jamaica', 'Cayman Islands', 'Cuba', 'The Bahamas', 'Bermuda'], 'Damage': 40000000.0, 'Deaths': 3103}, 'CubaBrownsville': {'Name': 'CubaBrownsville', 'Month': 'August', 'Year': 1933, 'Max Sustained Wind': 160, 'Areas Affected': ['The Bahamas', 'Cuba', 'Florida', 'Texas', 'Tamaulipas'], 'Damage': 27900000.0, 'Deaths': 179}, 'Tampico': {'Name': 'Tampico', 'Month': 'September', 'Year': 1933, 'Max Sustained Wind': 160, 'Areas Affected': ['Jamaica', 'Yucatn Peninsula'], 'Damage': 5000000.0, 'Deaths': 184}, 'Labor Day': {'Name': 'Labor Day', 'Month': 'September', 'Year': 1935, 'Max Sustained Wind': 185, 'Areas Affected': ['The Bahamas', 'Florida', 'Georgia', 'The Carolinas', 'Virginia'], 'Damage': 'Damages not recorded', 'Deaths': 408}, 'New England': {'Name': 'New England', 'Month': 'September', 'Year': 1938, 'Max Sustained Wind': 160, 'Areas Affected': ['Southeastern United States', 'Northeastern United States', 'Southwestern Quebec'], 'Damage': 306000000.0, 'Deaths': 682}, 'Carol': {'Name': 'Carol', 'Month': 'September', 'Year': 1953, 'Max Sustained Wind': 160, 'Areas Affected': ['Bermuda', 'New England', 'Atlantic Canada'], 'Damage': 2000000.0, 'Deaths': 5}, 'Janet': {'Name': 'Janet', 'Month': 'September', 'Year': 1955, 'Max Sustained Wind': 175, 'Areas Affected': ['Lesser Antilles', 'Central America'], 'Damage': 65800000.0, 'Deaths': 1023}, 'Carla': {'Name': 'Carla', 'Month': 'September', 'Year': 1961, 'Max Sustained Wind': 175, 'Areas Affected': ['Texas', 'Louisiana', 'Midwestern United States'], 'Damage': 326000000.0, 'Deaths': 43}, 'Hattie': {'Name': 'Hattie', 'Month': 'October', 'Year': 1961, 'Max Sustained Wind': 160, 'Areas Affected': ['Central America'], 'Damage': 60300000.0, 'Deaths': 319}, 'Beulah': {'Name': 'Beulah', 'Month': 'September', 'Year': 1967, 'Max Sustained Wind': 160, 'Areas Affected': ['The Caribbean', 'Mexico', 'Texas'], 'Damage': 208000000.0, 'Deaths': 688}, 'Camille': {'Name': 'Camille', 'Month': 'August', 'Year': 1969, 'Max Sustained Wind': 175, 'Areas Affected': ['Cuba', 'United States Gulf Coast'], 'Damage': 1420000000.0, 'Deaths': 259}, 'Edith': {'Name': 'Edith', 'Month': 'September', 'Year': 1971, 'Max Sustained Wind': 160, 'Areas Affected': ['The Caribbean', 'Central America', 'Mexico', 'United States Gulf Coast'], 'Damage': 25400000.0, 'Deaths': 37}, 'Anita': {'Name': 'Anita', 'Month': 'September', 'Year': 1977, 'Max Sustained Wind': 175, 'Areas Affected': ['Mexico'], 'Damage': 'Damages not recorded', 'Deaths': 11}, 'David': {'Name': 'David', 'Month': 'August', 'Year': 1979, 'Max Sustained Wind': 175, 'Areas Affected': ['The Caribbean', 'United States East coast'], 'Damage': 1540000000.0, 'Deaths': 2068}, 'Allen': {'Name': 'Allen', 'Month': 'August', 'Year': 1980, 'Max Sustained Wind': 190, 'Areas Affected': ['The Caribbean', 'Yucatn Peninsula', 'Mexico', 'South Texas'], 'Damage': 1240000000.0, 'Deaths': 269}, 'Gilbert': {'Name': 'Gilbert', 'Month': 'September', 'Year': 1988, 'Max Sustained Wind': 185, 'Areas Affected': ['Jamaica', 'Venezuela', 'Central America', 'Hispaniola', 'Mexico'], 'Damage': 7100000000.0, 'Deaths': 318}, 'Hugo': {'Name': 'Hugo', 'Month': 'September', 'Year': 1989, 'Max Sustained Wind': 160, 'Areas Affected': ['The Caribbean', 'United States East Coast'], 'Damage': 10000000000.0, 'Deaths': 107}, 'Andrew': {'Name': 'Andrew', 'Month': 'August', 'Year': 1992, 'Max Sustained Wind': 175, 'Areas Affected': ['The Bahamas', 'Florida', 'United States Gulf Coast'], 'Damage': 26500000000.0, 'Deaths': 65}, 'Mitch': {'Name': 'Mitch', 'Month': 'October', 'Year': 1998, 'Max Sustained Wind': 180, 'Areas Affected': ['Central America', 'Yucatn Peninsula', 'South Florida'], 'Damage': 6200000000.0, 'Deaths': 19325}, 'Isabel': {'Name': 'Isabel', 'Month': 'September', 'Year': 2003, 'Max Sustained Wind': 165, 'Areas Affected': ['Greater Antilles', 'Bahamas', 'Eastern United States', 'Ontario'], 'Damage': 5370000000.0, 'Deaths': 51}, 'Ivan': {'Name': 'Ivan', 'Month': 'September', 'Year': 2004, 'Max Sustained Wind': 165, 'Areas Affected': ['The Caribbean', 'Venezuela', 'United States Gulf Coast'], 'Damage': 23300000000.0, 'Deaths': 124}, 'Emily': {'Name': 'Emily', 'Month': 'July', 'Year': 2005, 'Max Sustained Wind': 160, 'Areas Affected': ['Windward Islands', 'Jamaica', 'Mexico', 'Texas'], 'Damage': 1010000000.0, 'Deaths': 17}, 'Katrina': {'Name': 'Katrina', 'Month': 'August', 'Year': 2005, 'Max Sustained Wind': 175, 'Areas Affected': ['Bahamas', 'United States Gulf Coast'], 'Damage': 125000000000.0, 'Deaths': 1836}, 'Rita': {'Name': 'Rita', 'Month': 'September', 'Year': 2005, 'Max Sustained Wind': 180, 'Areas Affected': ['Cuba', 'United States Gulf Coast'], 'Damage': 12000000000.0, 'Deaths': 125}, 'Wilma': {'Name': 'Wilma', 'Month': 'October', 'Year': 2005, 'Max Sustained Wind': 185, 'Areas Affected': ['Greater Antilles', 'Central America', 'Florida'], 'Damage': 29400000000.0, 'Deaths': 87}, 'Dean': {'Name': 'Dean', 'Month': 'August', 'Year': 2007, 'Max Sustained Wind': 175, 'Areas Affected': ['The Caribbean', 'Central America'], 'Damage': 1760000000.0, 'Deaths': 45}, 'Felix': {'Name': 'Felix', 'Month': 'September', 'Year': 2007, 'Max Sustained Wind': 175, 'Areas Affected': ['Nicaragua', 'Honduras'], 'Damage': 720000000.0, 'Deaths': 133}, 'Matthew': {'Name': 'Matthew', 'Month': 'October', 'Year': 2016, 'Max Sustained Wind': 165, 'Areas Affected': ['Antilles', 'Venezuela', 'Colombia', 'United States East Coast', 'Atlantic Canada'], 'Damage': 15100000000.0, 'Deaths': 603}, 'Irma': {'Name': 'Irma', 'Month': 'September', 'Year': 2017, 'Max Sustained Wind': 180, 'Areas Affected': ['Cape Verde', 'The Caribbean', 'British Virgin Islands', 'U.S. Virgin Islands', 'Cuba', 'Florida'], 'Damage': 64800000000.0, 'Deaths': 138}, 'Maria': {'Name': 'Maria', 'Month': 'September', 'Year': 2017, 'Max Sustained Wind': 175, 'Areas Affected': ['Lesser Antilles', 'Virgin Islands', 'Puerto Rico', 'Dominican Republic', 'Turks and Caicos Islands'], 'Damage': 91600000000.0, 'Deaths': 3057}, 'Michael': {'Name': 'Michael', 'Month': 'October', 'Year': 2018, 'Max Sustained Wind': 160, 'Areas Affected': ['Central America', 'United States Gulf Coast (especially Florida Panhandle)'], 'Damage': 25100000000.0, 'Deaths': 74}}\n"
          ],
          "name": "stdout"
        }
      ]
    },
    {
      "cell_type": "code",
      "metadata": {
        "colab": {
          "base_uri": "https://localhost:8080/"
        },
        "id": "RiH9cw0SUaKr",
        "outputId": "d8d9f40e-9a77-4ccb-e551-4d6c439b1618"
      },
      "source": [
        "def create_year_dictionary(hurricanes):\n",
        "  \"\"\"Convert dictionary with hurricane name as key to a new dictionary with hurricane year as the key and return new dictionary.\"\"\"\n",
        "  hurricanes_by_year= dict()\n",
        "  for cane in hurricanes:\n",
        "      current_year = hurricanes[cane]['Year']\n",
        "      current_cane = hurricanes[cane]\n",
        "      if current_year not in hurricanes_by_year:\n",
        "          hurricanes_by_year[current_year] = [current_cane]\n",
        "      else:\n",
        "          hurricanes_by_year[current_year].append(current_cane)\n",
        "  return hurricanes_by_year\n",
        "\n",
        "# create a new dictionary of hurricanes with year and key\n",
        "hurricanes_by_year = create_year_dictionary(hurricanes)\n",
        "print(hurricanes_by_year[1932])"
      ],
      "execution_count": null,
      "outputs": [
        {
          "output_type": "stream",
          "text": [
            "[{'Name': 'Bahamas', 'Month': 'September', 'Year': 1932, 'Max Sustained Wind': 160, 'Areas Affected': ['The Bahamas', 'Northeastern United States'], 'Damage': 'Damages not recorded', 'Deaths': 16}, {'Name': 'Cuba II', 'Month': 'November', 'Year': 1932, 'Max Sustained Wind': 175, 'Areas Affected': ['Lesser Antilles', 'Jamaica', 'Cayman Islands', 'Cuba', 'The Bahamas', 'Bermuda'], 'Damage': 40000000.0, 'Deaths': 3103}]\n"
          ],
          "name": "stdout"
        }
      ]
    },
    {
      "cell_type": "code",
      "metadata": {
        "colab": {
          "base_uri": "https://localhost:8080/"
        },
        "id": "6whEbIXaUelN",
        "outputId": "d75e3959-021e-47fc-d45e-5ad94f24cac0"
      },
      "source": [
        "def count_affected_areas(hurricanes):\n",
        "  \"\"\"Find the count of affected areas across all hurricanes and return as a dictionary with the affected areas as keys.\"\"\"\n",
        "  affected_areas_count = dict()\n",
        "  for cane in hurricanes:\n",
        "    for area in hurricanes[cane]['Areas Affected']:\n",
        "      if area not in affected_areas_count:\n",
        "        affected_areas_count[area] = 1\n",
        "      else:\n",
        "        affected_areas_count[area] += 1\n",
        "  return affected_areas_count\n",
        "\n",
        "# create dictionary of areas to store the number of hurricanes involved in\n",
        "affected_areas_count = count_affected_areas(hurricanes)\n",
        "print(affected_areas_count)"
      ],
      "execution_count": null,
      "outputs": [
        {
          "output_type": "stream",
          "text": [
            "{'Central America': 9, 'Mexico': 7, 'Cuba': 6, 'Florida': 6, 'The Bahamas': 7, 'Lesser Antilles': 4, 'United States East Coast': 3, 'Atlantic Canada': 3, 'Northeastern United States': 2, 'Jamaica': 4, 'Cayman Islands': 1, 'Bermuda': 2, 'Texas': 4, 'Tamaulipas': 1, 'Yucatn Peninsula': 3, 'Georgia': 1, 'The Carolinas': 1, 'Virginia': 1, 'Southeastern United States': 1, 'Southwestern Quebec': 1, 'New England': 1, 'Louisiana': 1, 'Midwestern United States': 1, 'The Caribbean': 8, 'United States Gulf Coast': 6, 'United States East coast': 1, 'South Texas': 1, 'Venezuela': 3, 'Hispaniola': 1, 'South Florida': 1, 'Greater Antilles': 2, 'Bahamas': 2, 'Eastern United States': 1, 'Ontario': 1, 'Windward Islands': 1, 'Nicaragua': 1, 'Honduras': 1, 'Antilles': 1, 'Colombia': 1, 'Cape Verde': 1, 'British Virgin Islands': 1, 'U.S. Virgin Islands': 1, 'Virgin Islands': 1, 'Puerto Rico': 1, 'Dominican Republic': 1, 'Turks and Caicos Islands': 1, 'United States Gulf Coast (especially Florida Panhandle)': 1}\n"
          ],
          "name": "stdout"
        }
      ]
    },
    {
      "cell_type": "code",
      "metadata": {
        "colab": {
          "base_uri": "https://localhost:8080/"
        },
        "id": "SDNFAPLWUvuQ",
        "outputId": "61bcfa75-23a1-4751-b827-ad2c0d5179f6"
      },
      "source": [
        "def most_affected_area(affected_areas_count):\n",
        "  \"\"\"Find most affected area and the number of hurricanes it was involved in.\"\"\"\n",
        "  max_area = 'Central America'\n",
        "  max_area_count = 0\n",
        "  for area in affected_areas_count:\n",
        "    if affected_areas_count[area] > max_area_count:\n",
        "      max_area = area\n",
        "      max_area_count = affected_areas_count[area]\n",
        "  return max_area, max_area_count\n",
        "\n",
        "# find most frequently affected area and the number of hurricanes involved in\n",
        "max_area, max_area_count = most_affected_area(affected_areas_count)\n",
        "print(max_area,max_area_count)\n"
      ],
      "execution_count": null,
      "outputs": [
        {
          "output_type": "stream",
          "text": [
            "Central America 9\n"
          ],
          "name": "stdout"
        }
      ]
    },
    {
      "cell_type": "code",
      "metadata": {
        "colab": {
          "base_uri": "https://localhost:8080/"
        },
        "id": "Ot7hW_1cU1ej",
        "outputId": "d210c98f-7a50-4b34-95cb-373c3519e227"
      },
      "source": [
        "def highest_mortality(hurricanes):\n",
        "  \"\"\"Find the highest mortality hurricane and the number of deaths it caused.\"\"\"\n",
        "  max_mortality_cane = 'Cuba I'\n",
        "  max_mortality = 0\n",
        "  for cane in hurricanes:\n",
        "    if hurricanes[cane]['Deaths'] > max_mortality:\n",
        "      max_mortality_cane = cane\n",
        "      max_mortality = hurricanes[cane]['Deaths']\n",
        "  return max_mortality_cane, max_mortality\n",
        "\n",
        "# find highest mortality hurricane and the number of deaths\n",
        "max_mortality_cane, max_mortality = highest_mortality(hurricanes)\n",
        "print(max_mortality_cane, max_mortality)"
      ],
      "execution_count": null,
      "outputs": [
        {
          "output_type": "stream",
          "text": [
            "Mitch 19325\n"
          ],
          "name": "stdout"
        }
      ]
    },
    {
      "cell_type": "code",
      "metadata": {
        "colab": {
          "base_uri": "https://localhost:8080/"
        },
        "id": "I-45laFPU6-0",
        "outputId": "c9654254-3b34-4f55-ae6d-c52f46874079"
      },
      "source": [
        "def categorize_by_mortality(hurricanes):\n",
        "  \"\"\"Categorize hurricanes by mortality and return a dictionary.\"\"\"\n",
        "  mortality_scale = {0: 0,\n",
        "                 1: 100,\n",
        "                 2: 500,\n",
        "                 3: 1000,\n",
        "                 4: 10000}\n",
        "  hurricanes_by_mortality = {0:[],1:[],2:[],3:[],4:[],5:[]}\n",
        "  for cane in hurricanes:\n",
        "    num_deaths = hurricanes[cane]['Deaths']\n",
        "    if num_deaths == mortality_scale[0]:\n",
        "      hurricanes_by_mortality[0].append(hurricanes[cane])\n",
        "    elif num_deaths > mortality_scale[0] and num_deaths <= mortality_scale[1]:\n",
        "      hurricanes_by_mortality[1].append(hurricanes[cane])\n",
        "    elif num_deaths > mortality_scale[1] and num_deaths <= mortality_scale[2]:\n",
        "      hurricanes_by_mortality[2].append(hurricanes[cane])\n",
        "    elif num_deaths > mortality_scale[2] and num_deaths <= mortality_scale[3]:\n",
        "      hurricanes_by_mortality[3].append(hurricanes[cane])\n",
        "    elif num_deaths > mortality_scale[3] and num_deaths <= mortality_scale[4]:\n",
        "      hurricanes_by_mortality[4].append(hurricanes[cane])\n",
        "    elif num_deaths > mortality_scale[4]:\n",
        "      hurricanes_by_mortality[5].append(hurricanes[cane])\n",
        "  return hurricanes_by_mortality\n",
        "\n",
        "# categorize hurricanes in new dictionary with mortality severity as key\n",
        "hurricanes_by_mortality = categorize_by_mortality(hurricanes)\n",
        "print(hurricanes_by_mortality[5])"
      ],
      "execution_count": null,
      "outputs": [
        {
          "output_type": "stream",
          "text": [
            "[{'Name': 'Mitch', 'Month': 'October', 'Year': 1998, 'Max Sustained Wind': 180, 'Areas Affected': ['Central America', 'Yucatn Peninsula', 'South Florida'], 'Damage': 6200000000.0, 'Deaths': 19325}]\n"
          ],
          "name": "stdout"
        }
      ]
    },
    {
      "cell_type": "code",
      "metadata": {
        "colab": {
          "base_uri": "https://localhost:8080/"
        },
        "id": "AusbRjHyVCDa",
        "outputId": "f02c8415-3080-4a13-9807-94a0fbcd7e57"
      },
      "source": [
        "#highest damages?\n",
        "\n",
        "def highest_damage(hurricanes):\n",
        "  \"\"\"Find the highest damage inducing hurricane and its total cost.\"\"\"\n",
        "  max_damage_cane = 'Cuba I'\n",
        "  max_damage = 0\n",
        "  for cane in hurricanes:\n",
        "    if hurricanes[cane]['Damage'] == \"Damages not recorded\":\n",
        "      pass\n",
        "    elif hurricanes[cane]['Damage'] > max_damage:\n",
        "      max_damage_cane = cane\n",
        "      max_damage = hurricanes[cane]['Damage']\n",
        "  return max_damage_cane, max_damage\n",
        "\n",
        "# find highest damage inducing hurricane and its total cost\n",
        "max_damage_cane, max_damage = highest_damage(hurricanes)\n",
        "print(max_damage_cane, max_damage)"
      ],
      "execution_count": null,
      "outputs": [
        {
          "output_type": "stream",
          "text": [
            "Katrina 125000000000.0\n"
          ],
          "name": "stdout"
        }
      ]
    },
    {
      "cell_type": "code",
      "metadata": {
        "colab": {
          "base_uri": "https://localhost:8080/"
        },
        "id": "3LF8jtzwTuhV",
        "outputId": "90446412-d634-4c94-ad27-0d6da5c35c51"
      },
      "source": [
        "#put the hurricanes into categories/buckets\n",
        "\n",
        "def categorize_by_damage(hurricanes):\n",
        "  \"\"\"Categorize hurricanes by damage and return a dictionary.\"\"\"\n",
        "  damage_scale = {0: 0,\n",
        "                 1: 100000000,\n",
        "                 2: 1000000000,\n",
        "                 3: 10000000000,\n",
        "                 4: 50000000000}\n",
        "  hurricanes_by_damage = {0:[],1:[],2:[],3:[],4:[],5:[]}\n",
        "  for cane in hurricanes:\n",
        "    total_damage = hurricanes[cane]['Damage']\n",
        "    if total_damage == \"Damages not recorded\":\n",
        "      hurricanes_by_damage[0].append(hurricanes[cane])\n",
        "    elif total_damage == damage_scale[0]:\n",
        "      hurricanes_by_damage[0].append(hurricanes[cane])\n",
        "    elif total_damage > damage_scale[0] and total_damage <= damage_scale[1]:\n",
        "      hurricanes_by_damage[1].append(hurricanes[cane])\n",
        "    elif total_damage > damage_scale[1] and total_damage <= damage_scale[2]:\n",
        "      hurricanes_by_damage[2].append(hurricanes[cane])\n",
        "    elif total_damage > damage_scale[2] and total_damage <= damage_scale[3]:\n",
        "      hurricanes_by_damage[3].append(hurricanes[cane])\n",
        "    elif total_damage > damage_scale[3] and total_damage <= damage_scale[4]:\n",
        "      hurricanes_by_damage[4].append(hurricanes[cane])\n",
        "    elif total_damage > damage_scale[4]:\n",
        "      hurricanes_by_damage[5].append(hurricanes[cane])\n",
        "  return hurricanes_by_damage\n",
        "\n",
        "# categorize hurricanes in new dictionary with damage severity as key\n",
        "hurricanes_by_damage = categorize_by_damage(hurricanes)\n",
        "print(hurricanes_by_damage[5])\n"
      ],
      "execution_count": null,
      "outputs": [
        {
          "output_type": "stream",
          "text": [
            "[{'Name': 'Katrina', 'Month': 'August', 'Year': 2005, 'Max Sustained Wind': 175, 'Areas Affected': ['Bahamas', 'United States Gulf Coast'], 'Damage': 125000000000.0, 'Deaths': 1836}, {'Name': 'Irma', 'Month': 'September', 'Year': 2017, 'Max Sustained Wind': 180, 'Areas Affected': ['Cape Verde', 'The Caribbean', 'British Virgin Islands', 'U.S. Virgin Islands', 'Cuba', 'Florida'], 'Damage': 64800000000.0, 'Deaths': 138}, {'Name': 'Maria', 'Month': 'September', 'Year': 2017, 'Max Sustained Wind': 175, 'Areas Affected': ['Lesser Antilles', 'Virgin Islands', 'Puerto Rico', 'Dominican Republic', 'Turks and Caicos Islands'], 'Damage': 91600000000.0, 'Deaths': 3057}]\n"
          ],
          "name": "stdout"
        }
      ]
    },
    {
      "cell_type": "code",
      "metadata": {
        "id": "Zwryi5CPTudz"
      },
      "source": [
        ""
      ],
      "execution_count": null,
      "outputs": []
    },
    {
      "cell_type": "code",
      "metadata": {
        "id": "Mh5VNSUTTuax"
      },
      "source": [
        ""
      ],
      "execution_count": null,
      "outputs": []
    },
    {
      "cell_type": "code",
      "metadata": {
        "id": "Mkoz8OSNTuXu"
      },
      "source": [
        ""
      ],
      "execution_count": null,
      "outputs": []
    },
    {
      "cell_type": "code",
      "metadata": {
        "id": "ADwOEzv1TuUf"
      },
      "source": [
        ""
      ],
      "execution_count": null,
      "outputs": []
    },
    {
      "cell_type": "code",
      "metadata": {
        "id": "g3-hvNbzTuRc"
      },
      "source": [
        ""
      ],
      "execution_count": null,
      "outputs": []
    },
    {
      "cell_type": "code",
      "metadata": {
        "id": "OalagDzGTuOU"
      },
      "source": [
        ""
      ],
      "execution_count": null,
      "outputs": []
    },
    {
      "cell_type": "code",
      "metadata": {
        "id": "rrzoZaBGTuLF"
      },
      "source": [
        ""
      ],
      "execution_count": null,
      "outputs": []
    },
    {
      "cell_type": "code",
      "metadata": {
        "id": "lRWxGyhOTuIU"
      },
      "source": [
        ""
      ],
      "execution_count": null,
      "outputs": []
    },
    {
      "cell_type": "code",
      "metadata": {
        "id": "jAmkMJ65TuFT"
      },
      "source": [
        ""
      ],
      "execution_count": null,
      "outputs": []
    },
    {
      "cell_type": "code",
      "metadata": {
        "id": "jBtpXx_NTuCX"
      },
      "source": [
        ""
      ],
      "execution_count": null,
      "outputs": []
    },
    {
      "cell_type": "code",
      "metadata": {
        "id": "6TC3bd4_Tt_X"
      },
      "source": [
        ""
      ],
      "execution_count": null,
      "outputs": []
    },
    {
      "cell_type": "code",
      "metadata": {
        "id": "XOHm4wlgTt8S"
      },
      "source": [
        ""
      ],
      "execution_count": null,
      "outputs": []
    },
    {
      "cell_type": "code",
      "metadata": {
        "id": "huY5w4cXTt5Y"
      },
      "source": [
        ""
      ],
      "execution_count": null,
      "outputs": []
    },
    {
      "cell_type": "code",
      "metadata": {
        "id": "HVVP4TBSTt2f"
      },
      "source": [
        ""
      ],
      "execution_count": null,
      "outputs": []
    },
    {
      "cell_type": "code",
      "metadata": {
        "id": "yrsnmU6LTtzW"
      },
      "source": [
        ""
      ],
      "execution_count": null,
      "outputs": []
    },
    {
      "cell_type": "code",
      "metadata": {
        "id": "cXhdyv2XTtwU"
      },
      "source": [
        ""
      ],
      "execution_count": null,
      "outputs": []
    }
  ]
}